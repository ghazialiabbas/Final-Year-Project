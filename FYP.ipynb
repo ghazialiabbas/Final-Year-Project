{
 "cells": [
  {
   "cell_type": "code",
   "execution_count": 2,
   "metadata": {},
   "outputs": [],
   "source": [
    "import pandas as pd\n",
    "import numpy as np\n",
    "import matplotlib.pyplot as plt\n",
    "import datetime as dt\n",
    "import statsmodels.api as sm\n",
    "from statsmodels.tsa.stattools import adfuller"
   ]
  },
  {
   "cell_type": "code",
   "execution_count": 3,
   "metadata": {},
   "outputs": [],
   "source": [
    "data = pd.read_excel(\"t.xlsx\")"
   ]
  },
  {
   "cell_type": "code",
   "execution_count": 4,
   "metadata": {},
   "outputs": [
    {
     "data": {
      "text/html": [
       "<div>\n",
       "<style scoped>\n",
       "    .dataframe tbody tr th:only-of-type {\n",
       "        vertical-align: middle;\n",
       "    }\n",
       "\n",
       "    .dataframe tbody tr th {\n",
       "        vertical-align: top;\n",
       "    }\n",
       "\n",
       "    .dataframe thead th {\n",
       "        text-align: right;\n",
       "    }\n",
       "</style>\n",
       "<table border=\"1\" class=\"dataframe\">\n",
       "  <thead>\n",
       "    <tr style=\"text-align: right;\">\n",
       "      <th></th>\n",
       "      <th>Dates</th>\n",
       "      <th>Indices</th>\n",
       "      <th>returns</th>\n",
       "    </tr>\n",
       "  </thead>\n",
       "  <tbody>\n",
       "    <tr>\n",
       "      <th>0</th>\n",
       "      <td>2022-03-15</td>\n",
       "      <td>39.559853</td>\n",
       "      <td>8.573796</td>\n",
       "    </tr>\n",
       "    <tr>\n",
       "      <th>1</th>\n",
       "      <td>2022-03-14</td>\n",
       "      <td>30.986057</td>\n",
       "      <td>-8.645838</td>\n",
       "    </tr>\n",
       "    <tr>\n",
       "      <th>2</th>\n",
       "      <td>2022-03-11</td>\n",
       "      <td>39.631895</td>\n",
       "      <td>-6.593403</td>\n",
       "    </tr>\n",
       "    <tr>\n",
       "      <th>3</th>\n",
       "      <td>2022-03-10</td>\n",
       "      <td>46.225298</td>\n",
       "      <td>-1.424774</td>\n",
       "    </tr>\n",
       "    <tr>\n",
       "      <th>4</th>\n",
       "      <td>2022-03-09</td>\n",
       "      <td>47.650071</td>\n",
       "      <td>9.132362</td>\n",
       "    </tr>\n",
       "  </tbody>\n",
       "</table>\n",
       "</div>"
      ],
      "text/plain": [
       "       Dates    Indices   returns\n",
       "0 2022-03-15  39.559853  8.573796\n",
       "1 2022-03-14  30.986057 -8.645838\n",
       "2 2022-03-11  39.631895 -6.593403\n",
       "3 2022-03-10  46.225298 -1.424774\n",
       "4 2022-03-09  47.650071  9.132362"
      ]
     },
     "execution_count": 4,
     "metadata": {},
     "output_type": "execute_result"
    }
   ],
   "source": [
    "data.head()"
   ]
  },
  {
   "cell_type": "code",
   "execution_count": 5,
   "metadata": {},
   "outputs": [
    {
     "name": "stdout",
     "output_type": "stream",
     "text": [
      "0      2022-03-15\n",
      "1      2022-03-14\n",
      "2      2022-03-11\n",
      "3      2022-03-10\n",
      "4      2022-03-09\n",
      "          ...    \n",
      "1038   2018-01-05\n",
      "1039   2018-01-04\n",
      "1040   2018-01-03\n",
      "1041   2018-01-02\n",
      "1042   2018-01-01\n",
      "Name: Dates, Length: 1043, dtype: datetime64[ns]\n"
     ]
    }
   ],
   "source": [
    "print(data[\"Dates\"])"
   ]
  },
  {
   "cell_type": "code",
   "execution_count": 5,
   "metadata": {},
   "outputs": [
    {
     "name": "stdout",
     "output_type": "stream",
     "text": [
      "0        39.559853\n",
      "1        30.986057\n",
      "2        39.631895\n",
      "3        46.225298\n",
      "4        47.650071\n",
      "           ...    \n",
      "1038    100.877969\n",
      "1039    101.662807\n",
      "1040    147.652136\n",
      "1041    125.269865\n",
      "1042    135.541932\n",
      "Name: Indices, Length: 1043, dtype: float64\n"
     ]
    }
   ],
   "source": [
    "print(data[\"Indices\"])"
   ]
  },
  {
   "cell_type": "code",
   "execution_count": 11,
   "metadata": {},
   "outputs": [
    {
     "name": "stdout",
     "output_type": "stream",
     "text": [
      "<class 'pandas.core.frame.DataFrame'>\n",
      "RangeIndex: 1043 entries, 0 to 1042\n",
      "Data columns (total 3 columns):\n",
      " #   Column   Non-Null Count  Dtype         \n",
      "---  ------   --------------  -----         \n",
      " 0   Dates    1043 non-null   datetime64[ns]\n",
      " 1   Indices  1043 non-null   float64       \n",
      " 2   returns  1042 non-null   float64       \n",
      "dtypes: datetime64[ns](1), float64(2)\n",
      "memory usage: 24.6 KB\n"
     ]
    }
   ],
   "source": [
    "data.info()"
   ]
  },
  {
   "cell_type": "code",
   "execution_count": 13,
   "metadata": {},
   "outputs": [
    {
     "data": {
      "image/png": "[encoded data removed]",
      "text/plain": [
       "<Figure size 432x288 with 1 Axes>"
      ]
     },
     "metadata": {
      "needs_background": "light"
     },
     "output_type": "display_data"
    }
   ],
   "source": [
    "graph = plt.plot(data[\"Dates\"],data[\"Indices\"])"
   ]
  },
  {
   "cell_type": "code",
   "execution_count": 8,
   "metadata": {},
   "outputs": [
    {
     "name": "stdout",
     "output_type": "stream",
     "text": [
      "0        39.559853\n",
      "1        30.986057\n",
      "2        39.631895\n",
      "3        46.225298\n",
      "4        47.650071\n",
      "           ...    \n",
      "1038    100.877969\n",
      "1039    101.662807\n",
      "1040    147.652136\n",
      "1041    125.269865\n",
      "1042    135.541932\n",
      "Name: Indices, Length: 1043, dtype: float64\n"
     ]
    }
   ],
   "source": [
    "x= data[\"Indices\"]\n",
    "print(x)"
   ]
  },
  {
   "cell_type": "code",
   "execution_count": 6,
   "metadata": {},
   "outputs": [
    {
     "name": "stdout",
     "output_type": "stream",
     "text": [
      "ADF Statistic: -4.570226\n",
      "p-value: 0.000147\n",
      "Critical Values:\n",
      "\t1%: -3.437\n",
      "\t5%: -2.864\n",
      "\t10%: -2.568\n",
      "Reject Ho - Time Series is Stationary\n"
     ]
    }
   ],
   "source": [
    "#Reject ho when= p<0.05\n",
    "#H0 : Time series is non-stationary (has a unit root)\n",
    "#H1 : Time series is stationary (has not a unit root)\n",
    "\n",
    "X = data[\"Indices\"].values\n",
    "result = adfuller(X)\n",
    "print('ADF Statistic: %f' % result[0])\n",
    "print('p-value: %f' % result[1])\n",
    "print('Critical Values:')\n",
    "for key, value in result[4].items():\n",
    "    print('\\t%s: %.3f' % (key, value))\n",
    "\n",
    "if result[0] < result[4][\"5%\"]:\n",
    "    print (\"Reject Ho - Time Series is Stationary\")\n",
    "else:\n",
    "    print (\"Failed to Reject Ho - Time Series is Non-Stationary\")"
   ]
  },
  {
   "cell_type": "code",
   "execution_count": 10,
   "metadata": {},
   "outputs": [
    {
     "name": "stdout",
     "output_type": "stream",
     "text": [
      "(-4.570225987099581, 0.00014651423187276354, 7, 1035, {'1%': -3.4366839058058387, '5%': -2.8643365489845647, '10%': -2.5682589990431515}, 8683.092477807542)\n",
      "<class 'tuple'>\n"
     ]
    }
   ],
   "source": [
    "X = data[\"Indices\"].values\n",
    "result = adfuller(X)\n",
    "print(result)\n",
    "print(type(result))"
   ]
  },
  {
   "cell_type": "markdown",
   "metadata": {},
   "source": [
    "### MODEL"
   ]
  },
  {
   "cell_type": "code",
   "execution_count": 23,
   "metadata": {
    "scrolled": true
   },
   "outputs": [
    {
     "name": "stdout",
     "output_type": "stream",
     "text": [
      "Requirement already satisfied: pmdarima in c:\\users\\syeda khadeeja\\appdata\\roaming\\python\\python38\\site-packages (1.8.5)Note: you may need to restart the kernel to use updated packages.\n",
      "\n",
      "Requirement already satisfied: setuptools!=50.0.0,>=38.6.0 in c:\\programdata\\anaconda3\\lib\\site-packages (from pmdarima) (49.2.0.post20200714)\n",
      "Requirement already satisfied: statsmodels!=0.12.0,>=0.11 in c:\\programdata\\anaconda3\\lib\\site-packages (from pmdarima) (0.11.1)\n",
      "Requirement already satisfied: scipy>=1.3.2 in c:\\programdata\\anaconda3\\lib\\site-packages (from pmdarima) (1.5.0)\n",
      "Requirement already satisfied: Cython!=0.29.18,>=0.29 in c:\\programdata\\anaconda3\\lib\\site-packages (from pmdarima) (0.29.21)\n",
      "Requirement already satisfied: urllib3 in c:\\programdata\\anaconda3\\lib\\site-packages (from pmdarima) (1.25.9)\n",
      "Requirement already satisfied: joblib>=0.11 in c:\\programdata\\anaconda3\\lib\\site-packages (from pmdarima) (0.16.0)\n",
      "Requirement already satisfied: numpy>=1.19.3 in c:\\users\\syeda khadeeja\\appdata\\roaming\\python\\python38\\site-packages (from pmdarima) (1.23.1)\n",
      "Requirement already satisfied: scikit-learn>=0.22 in c:\\programdata\\anaconda3\\lib\\site-packages (from pmdarima) (0.23.1)\n",
      "Requirement already satisfied: pandas>=0.19 in c:\\programdata\\anaconda3\\lib\\site-packages (from pmdarima) (1.0.5)\n",
      "Requirement already satisfied: patsy>=0.5 in c:\\programdata\\anaconda3\\lib\\site-packages (from statsmodels!=0.12.0,>=0.11->pmdarima) (0.5.1)\n",
      "Requirement already satisfied: threadpoolctl>=2.0.0 in c:\\programdata\\anaconda3\\lib\\site-packages (from scikit-learn>=0.22->pmdarima) (2.1.0)\n",
      "Requirement already satisfied: python-dateutil>=2.6.1 in c:\\programdata\\anaconda3\\lib\\site-packages (from pandas>=0.19->pmdarima) (2.8.1)\n",
      "Requirement already satisfied: pytz>=2017.2 in c:\\programdata\\anaconda3\\lib\\site-packages (from pandas>=0.19->pmdarima) (2020.1)\n",
      "Requirement already satisfied: six in c:\\programdata\\anaconda3\\lib\\site-packages (from patsy>=0.5->statsmodels!=0.12.0,>=0.11->pmdarima) (1.15.0)\n"
     ]
    }
   ],
   "source": [
    "pip install pmdarima"
   ]
  },
  {
   "cell_type": "code",
   "execution_count": 21,
   "metadata": {},
   "outputs": [
    {
     "name": "stdout",
     "output_type": "stream",
     "text": [
      "Requirement already satisfied: arch in c:\\programdata\\anaconda3\\lib\\site-packages (5.3.1)\n",
      "Requirement already satisfied: scipy>=1.3 in c:\\programdata\\anaconda3\\lib\\site-packages (from arch) (1.5.0)\n",
      "Requirement already satisfied: property-cached>=1.6.4 in c:\\programdata\\anaconda3\\lib\\site-packages (from arch) (1.6.4)\n",
      "Requirement already satisfied: statsmodels>=0.11 in c:\\programdata\\anaconda3\\lib\\site-packages (from arch) (0.11.1)\n",
      "Requirement already satisfied: numpy>=1.17 in c:\\users\\syeda khadeeja\\appdata\\roaming\\python\\python38\\site-packages (from arch) (1.23.1)\n",
      "Requirement already satisfied: pandas>=1.0 in c:\\programdata\\anaconda3\\lib\\site-packages (from arch) (1.0.5)\n",
      "Requirement already satisfied: patsy>=0.5 in c:\\programdata\\anaconda3\\lib\\site-packages (from statsmodels>=0.11->arch) (0.5.1)\n",
      "Requirement already satisfied: python-dateutil>=2.6.1 in c:\\programdata\\anaconda3\\lib\\site-packages (from pandas>=1.0->arch) (2.8.1)\n",
      "Requirement already satisfied: pytz>=2017.2 in c:\\programdata\\anaconda3\\lib\\site-packages (from pandas>=1.0->arch) (2020.1)\n",
      "Requirement already satisfied: six in c:\\programdata\\anaconda3\\lib\\site-packages (from patsy>=0.5->statsmodels>=0.11->arch) (1.15.0)\n",
      "Note: you may need to restart the kernel to use updated packages.\n"
     ]
    }
   ],
   "source": [
    "pip install arch"
   ]
  },
  {
   "cell_type": "code",
   "execution_count": 24,
   "metadata": {},
   "outputs": [],
   "source": [
    "import numpy as np \n",
    "import pandas as pd \n",
    "import matplotlib.pyplot as plt\n",
    "from pandas.plotting import lag_plot\n",
    "import datetime as dt\n",
    "import warnings\n",
    "from datetime import datetime\n",
    "from statsmodels.tsa.arima_model import ARIMA\n",
    "from sklearn.metrics import mean_squared_error \n",
    "import pmdarima"
   ]
  },
  {
   "cell_type": "code",
   "execution_count": 23,
   "metadata": {},
   "outputs": [],
   "source": [
    "from pmdarima import auto_arima\n",
    "warnings.filterwarnings(\"ignore\")"
   ]
  },
  {
   "cell_type": "code",
   "execution_count": 24,
   "metadata": {},
   "outputs": [],
   "source": [
    "data = pd.read_excel(\"t.xlsx\")"
   ]
  },
  {
   "cell_type": "code",
   "execution_count": 25,
   "metadata": {
    "scrolled": false
   },
   "outputs": [
    {
     "name": "stdout",
     "output_type": "stream",
     "text": [
      "Performing stepwise search to minimize aic\n",
      " ARIMA(2,1,2)(0,0,0)[0] intercept   : AIC=inf, Time=4.17 sec\n",
      " ARIMA(0,1,0)(0,0,0)[0] intercept   : AIC=9112.024, Time=0.08 sec\n",
      " ARIMA(1,1,0)(0,0,0)[0] intercept   : AIC=8965.955, Time=0.47 sec\n",
      " ARIMA(0,1,1)(0,0,0)[0] intercept   : AIC=8883.571, Time=0.55 sec\n",
      " ARIMA(0,1,0)(0,0,0)[0]             : AIC=9110.049, Time=0.06 sec\n",
      " ARIMA(1,1,1)(0,0,0)[0] intercept   : AIC=8863.764, Time=0.76 sec\n",
      " ARIMA(2,1,1)(0,0,0)[0] intercept   : AIC=8858.847, Time=1.11 sec\n",
      " ARIMA(2,1,0)(0,0,0)[0] intercept   : AIC=8927.566, Time=0.66 sec\n",
      " ARIMA(3,1,1)(0,0,0)[0] intercept   : AIC=8858.023, Time=1.96 sec\n",
      " ARIMA(3,1,0)(0,0,0)[0] intercept   : AIC=8896.884, Time=0.71 sec\n",
      " ARIMA(4,1,1)(0,0,0)[0] intercept   : AIC=inf, Time=4.24 sec\n",
      " ARIMA(3,1,2)(0,0,0)[0] intercept   : AIC=8860.146, Time=2.88 sec\n",
      " ARIMA(4,1,0)(0,0,0)[0] intercept   : AIC=8884.460, Time=1.03 sec\n",
      " ARIMA(4,1,2)(0,0,0)[0] intercept   : AIC=8849.701, Time=4.56 sec\n",
      " ARIMA(5,1,2)(0,0,0)[0] intercept   : AIC=inf, Time=4.96 sec\n",
      " ARIMA(4,1,3)(0,0,0)[0] intercept   : AIC=8860.274, Time=6.30 sec\n",
      " ARIMA(3,1,3)(0,0,0)[0] intercept   : AIC=8866.473, Time=4.88 sec\n",
      " ARIMA(5,1,1)(0,0,0)[0] intercept   : AIC=inf, Time=4.74 sec\n",
      " ARIMA(5,1,3)(0,0,0)[0] intercept   : AIC=inf, Time=5.37 sec\n",
      " ARIMA(4,1,2)(0,0,0)[0]             : AIC=8848.935, Time=3.53 sec\n",
      " ARIMA(3,1,2)(0,0,0)[0]             : AIC=8858.633, Time=1.03 sec\n",
      " ARIMA(4,1,1)(0,0,0)[0]             : AIC=8850.933, Time=1.31 sec\n",
      " ARIMA(5,1,2)(0,0,0)[0]             : AIC=8850.464, Time=2.49 sec\n",
      " ARIMA(4,1,3)(0,0,0)[0]             : AIC=8858.523, Time=3.58 sec\n",
      " ARIMA(3,1,1)(0,0,0)[0]             : AIC=8856.663, Time=0.72 sec\n",
      " ARIMA(3,1,3)(0,0,0)[0]             : AIC=8864.755, Time=1.93 sec\n",
      " ARIMA(5,1,1)(0,0,0)[0]             : AIC=8849.419, Time=1.59 sec\n",
      " ARIMA(5,1,3)(0,0,0)[0]             : AIC=8852.695, Time=3.84 sec\n",
      "\n",
      "Best model:  ARIMA(4,1,2)(0,0,0)[0]          \n",
      "Total fit time: 69.803 seconds\n"
     ]
    },
    {
     "data": {
      "text/html": [
       "<table class=\"simpletable\">\n",
       "<caption>SARIMAX Results</caption>\n",
       "<tr>\n",
       "  <th>Dep. Variable:</th>           <td>y</td>        <th>  No. Observations:  </th>   <td>1043</td>   \n",
       "</tr>\n",
       "<tr>\n",
       "  <th>Model:</th>           <td>SARIMAX(4, 1, 2)</td> <th>  Log Likelihood     </th> <td>-4417.468</td>\n",
       "</tr>\n",
       "<tr>\n",
       "  <th>Date:</th>            <td>Wed, 24 Aug 2022</td> <th>  AIC                </th> <td>8848.935</td> \n",
       "</tr>\n",
       "<tr>\n",
       "  <th>Time:</th>                <td>02:03:54</td>     <th>  BIC                </th> <td>8883.577</td> \n",
       "</tr>\n",
       "<tr>\n",
       "  <th>Sample:</th>                  <td>0</td>        <th>  HQIC               </th> <td>8862.075</td> \n",
       "</tr>\n",
       "<tr>\n",
       "  <th></th>                      <td> - 1043</td>     <th>                     </th>     <td> </td>    \n",
       "</tr>\n",
       "<tr>\n",
       "  <th>Covariance Type:</th>        <td>opg</td>       <th>                     </th>     <td> </td>    \n",
       "</tr>\n",
       "</table>\n",
       "<table class=\"simpletable\">\n",
       "<tr>\n",
       "     <td></td>       <th>coef</th>     <th>std err</th>      <th>z</th>      <th>P>|z|</th>  <th>[0.025</th>    <th>0.975]</th>  \n",
       "</tr>\n",
       "<tr>\n",
       "  <th>ar.L1</th>  <td>    1.0036</td> <td>    0.142</td> <td>    7.058</td> <td> 0.000</td> <td>    0.725</td> <td>    1.282</td>\n",
       "</tr>\n",
       "<tr>\n",
       "  <th>ar.L2</th>  <td>   -0.1001</td> <td>    0.071</td> <td>   -1.418</td> <td> 0.156</td> <td>   -0.238</td> <td>    0.038</td>\n",
       "</tr>\n",
       "<tr>\n",
       "  <th>ar.L3</th>  <td>   -0.0419</td> <td>    0.040</td> <td>   -1.045</td> <td> 0.296</td> <td>   -0.121</td> <td>    0.037</td>\n",
       "</tr>\n",
       "<tr>\n",
       "  <th>ar.L4</th>  <td>    0.0526</td> <td>    0.034</td> <td>    1.557</td> <td> 0.119</td> <td>   -0.014</td> <td>    0.119</td>\n",
       "</tr>\n",
       "<tr>\n",
       "  <th>ma.L1</th>  <td>   -1.5368</td> <td>    0.142</td> <td>  -10.861</td> <td> 0.000</td> <td>   -1.814</td> <td>   -1.259</td>\n",
       "</tr>\n",
       "<tr>\n",
       "  <th>ma.L2</th>  <td>    0.5416</td> <td>    0.139</td> <td>    3.895</td> <td> 0.000</td> <td>    0.269</td> <td>    0.814</td>\n",
       "</tr>\n",
       "<tr>\n",
       "  <th>sigma2</th> <td>  281.5472</td> <td>    8.476</td> <td>   33.219</td> <td> 0.000</td> <td>  264.935</td> <td>  298.159</td>\n",
       "</tr>\n",
       "</table>\n",
       "<table class=\"simpletable\">\n",
       "<tr>\n",
       "  <th>Ljung-Box (Q):</th>          <td>32.64</td> <th>  Jarque-Bera (JB):  </th> <td>385.87</td>\n",
       "</tr>\n",
       "<tr>\n",
       "  <th>Prob(Q):</th>                <td>0.79</td>  <th>  Prob(JB):          </th>  <td>0.00</td> \n",
       "</tr>\n",
       "<tr>\n",
       "  <th>Heteroskedasticity (H):</th> <td>1.98</td>  <th>  Skew:              </th>  <td>0.78</td> \n",
       "</tr>\n",
       "<tr>\n",
       "  <th>Prob(H) (two-sided):</th>    <td>0.00</td>  <th>  Kurtosis:          </th>  <td>5.54</td> \n",
       "</tr>\n",
       "</table><br/><br/>Warnings:<br/>[1] Covariance matrix calculated using the outer product of gradients (complex-step)."
      ],
      "text/plain": [
       "<class 'statsmodels.iolib.summary.Summary'>\n",
       "\"\"\"\n",
       "                               SARIMAX Results                                \n",
       "==============================================================================\n",
       "Dep. Variable:                      y   No. Observations:                 1043\n",
       "Model:               SARIMAX(4, 1, 2)   Log Likelihood               -4417.468\n",
       "Date:                Wed, 24 Aug 2022   AIC                           8848.935\n",
       "Time:                        02:03:54   BIC                           8883.577\n",
       "Sample:                             0   HQIC                          8862.075\n",
       "                               - 1043                                         \n",
       "Covariance Type:                  opg                                         \n",
       "==============================================================================\n",
       "                 coef    std err          z      P>|z|      [0.025      0.975]\n",
       "------------------------------------------------------------------------------\n",
       "ar.L1          1.0036      0.142      7.058      0.000       0.725       1.282\n",
       "ar.L2         -0.1001      0.071     -1.418      0.156      -0.238       0.038\n",
       "ar.L3         -0.0419      0.040     -1.045      0.296      -0.121       0.037\n",
       "ar.L4          0.0526      0.034      1.557      0.119      -0.014       0.119\n",
       "ma.L1         -1.5368      0.142    -10.861      0.000      -1.814      -1.259\n",
       "ma.L2          0.5416      0.139      3.895      0.000       0.269       0.814\n",
       "sigma2       281.5472      8.476     33.219      0.000     264.935     298.159\n",
       "===================================================================================\n",
       "Ljung-Box (Q):                       32.64   Jarque-Bera (JB):               385.87\n",
       "Prob(Q):                              0.79   Prob(JB):                         0.00\n",
       "Heteroskedasticity (H):               1.98   Skew:                             0.78\n",
       "Prob(H) (two-sided):                  0.00   Kurtosis:                         5.54\n",
       "===================================================================================\n",
       "\n",
       "Warnings:\n",
       "[1] Covariance matrix calculated using the outer product of gradients (complex-step).\n",
       "\"\"\""
      ]
     },
     "execution_count": 25,
     "metadata": {},
     "output_type": "execute_result"
    }
   ],
   "source": [
    "stepwise_fit = auto_arima(data[\"Indices\"], trace=True, suppress_warnings=True )\n",
    "stepwise_fit.summary()"
   ]
  },
  {
   "cell_type": "code",
   "execution_count": 32,
   "metadata": {},
   "outputs": [],
   "source": [
    "train = data.iloc[:-30]\n",
    "test = data.iloc[-30:] #last 30 values"
   ]
  },
  {
   "cell_type": "code",
   "execution_count": 25,
   "metadata": {
    "scrolled": true
   },
   "outputs": [
    {
     "data": {
      "text/html": [
       "<table class=\"simpletable\">\n",
       "<caption>ARIMA Model Results</caption>\n",
       "<tr>\n",
       "  <th>Dep. Variable:</th>     <td>D.Indices</td>    <th>  No. Observations:  </th>   <td>1012</td>   \n",
       "</tr>\n",
       "<tr>\n",
       "  <th>Model:</th>          <td>ARIMA(2, 1, 2)</td>  <th>  Log Likelihood     </th> <td>-4266.986</td>\n",
       "</tr>\n",
       "<tr>\n",
       "  <th>Method:</th>             <td>css-mle</td>     <th>  S.D. of innovations</th>  <td>16.369</td>  \n",
       "</tr>\n",
       "<tr>\n",
       "  <th>Date:</th>          <td>Fri, 26 Aug 2022</td> <th>  AIC                </th> <td>8545.973</td> \n",
       "</tr>\n",
       "<tr>\n",
       "  <th>Time:</th>              <td>00:53:31</td>     <th>  BIC                </th> <td>8575.491</td> \n",
       "</tr>\n",
       "<tr>\n",
       "  <th>Sample:</th>                <td>1</td>        <th>  HQIC               </th> <td>8557.185</td> \n",
       "</tr>\n",
       "<tr>\n",
       "  <th></th>                       <td> </td>        <th>                     </th>     <td> </td>    \n",
       "</tr>\n",
       "</table>\n",
       "<table class=\"simpletable\">\n",
       "<tr>\n",
       "         <td></td>            <th>coef</th>     <th>std err</th>      <th>z</th>      <th>P>|z|</th>  <th>[0.025</th>    <th>0.975]</th>  \n",
       "</tr>\n",
       "<tr>\n",
       "  <th>const</th>           <td>    0.0364</td> <td>    0.009</td> <td>    3.865</td> <td> 0.000</td> <td>    0.018</td> <td>    0.055</td>\n",
       "</tr>\n",
       "<tr>\n",
       "  <th>ar.L1.D.Indices</th> <td>    1.1327</td> <td>    0.129</td> <td>    8.759</td> <td> 0.000</td> <td>    0.879</td> <td>    1.386</td>\n",
       "</tr>\n",
       "<tr>\n",
       "  <th>ar.L2.D.Indices</th> <td>   -0.1942</td> <td>    0.101</td> <td>   -1.914</td> <td> 0.056</td> <td>   -0.393</td> <td>    0.005</td>\n",
       "</tr>\n",
       "<tr>\n",
       "  <th>ma.L1.D.Indices</th> <td>   -1.6606</td> <td>    0.118</td> <td>  -14.124</td> <td> 0.000</td> <td>   -1.891</td> <td>   -1.430</td>\n",
       "</tr>\n",
       "<tr>\n",
       "  <th>ma.L2.D.Indices</th> <td>    0.6606</td> <td>    0.117</td> <td>    5.623</td> <td> 0.000</td> <td>    0.430</td> <td>    0.891</td>\n",
       "</tr>\n",
       "</table>\n",
       "<table class=\"simpletable\">\n",
       "<caption>Roots</caption>\n",
       "<tr>\n",
       "    <td></td>   <th>            Real</th>  <th>         Imaginary</th> <th>         Modulus</th>  <th>        Frequency</th>\n",
       "</tr>\n",
       "<tr>\n",
       "  <th>AR.1</th> <td>           1.0844</td> <td>          +0.0000j</td> <td>           1.0844</td> <td>           0.0000</td>\n",
       "</tr>\n",
       "<tr>\n",
       "  <th>AR.2</th> <td>           4.7485</td> <td>          +0.0000j</td> <td>           4.7485</td> <td>           0.0000</td>\n",
       "</tr>\n",
       "<tr>\n",
       "  <th>MA.1</th> <td>           1.0001</td> <td>          +0.0000j</td> <td>           1.0001</td> <td>           0.0000</td>\n",
       "</tr>\n",
       "<tr>\n",
       "  <th>MA.2</th> <td>           1.5136</td> <td>          +0.0000j</td> <td>           1.5136</td> <td>           0.0000</td>\n",
       "</tr>\n",
       "</table>"
      ],
      "text/plain": [
       "<class 'statsmodels.iolib.summary.Summary'>\n",
       "\"\"\"\n",
       "                             ARIMA Model Results                              \n",
       "==============================================================================\n",
       "Dep. Variable:              D.Indices   No. Observations:                 1012\n",
       "Model:                 ARIMA(2, 1, 2)   Log Likelihood               -4266.986\n",
       "Method:                       css-mle   S.D. of innovations             16.369\n",
       "Date:                Fri, 26 Aug 2022   AIC                           8545.973\n",
       "Time:                        00:53:31   BIC                           8575.491\n",
       "Sample:                             1   HQIC                          8557.185\n",
       "                                                                              \n",
       "===================================================================================\n",
       "                      coef    std err          z      P>|z|      [0.025      0.975]\n",
       "-----------------------------------------------------------------------------------\n",
       "const               0.0364      0.009      3.865      0.000       0.018       0.055\n",
       "ar.L1.D.Indices     1.1327      0.129      8.759      0.000       0.879       1.386\n",
       "ar.L2.D.Indices    -0.1942      0.101     -1.914      0.056      -0.393       0.005\n",
       "ma.L1.D.Indices    -1.6606      0.118    -14.124      0.000      -1.891      -1.430\n",
       "ma.L2.D.Indices     0.6606      0.117      5.623      0.000       0.430       0.891\n",
       "                                    Roots                                    \n",
       "=============================================================================\n",
       "                  Real          Imaginary           Modulus         Frequency\n",
       "-----------------------------------------------------------------------------\n",
       "AR.1            1.0844           +0.0000j            1.0844            0.0000\n",
       "AR.2            4.7485           +0.0000j            4.7485            0.0000\n",
       "MA.1            1.0001           +0.0000j            1.0001            0.0000\n",
       "MA.2            1.5136           +0.0000j            1.5136            0.0000\n",
       "-----------------------------------------------------------------------------\n",
       "\"\"\""
      ]
     },
     "execution_count": 25,
     "metadata": {},
     "output_type": "execute_result"
    }
   ],
   "source": [
    "model = ARIMA(train[\"Indices\"], order=(2,1,2))\n",
    "model = model.fit()\n",
    "model.summary()"
   ]
  },
  {
   "cell_type": "code",
   "execution_count": 50,
   "metadata": {},
   "outputs": [],
   "source": [
    "train=data[:900]\n",
    "test=data[900:]"
   ]
  },
  {
   "cell_type": "markdown",
   "metadata": {},
   "source": [
    "## pdq"
   ]
  },
  {
   "cell_type": "code",
   "execution_count": 22,
   "metadata": {},
   "outputs": [],
   "source": [
    "import itertools\n",
    "import warnings\n",
    "warnings.filterwarnings('ignore')\n",
    "from statsmodels.tsa.arima.model import ARIMA\n",
    "from sklearn.metrics import mean_squared_error\n",
    "import itertools\n",
    "import numpy as np\n"
   ]
  },
  {
   "cell_type": "code",
   "execution_count": 3,
   "metadata": {},
   "outputs": [],
   "source": [
    "p=range(0,8)\n",
    "q=range(0,8)\n",
    "d=range(0,2)"
   ]
  },
  {
   "cell_type": "code",
   "execution_count": 4,
   "metadata": {},
   "outputs": [],
   "source": [
    "pdq_combination = list(itertools.product(p,d,q))"
   ]
  },
  {
   "cell_type": "code",
   "execution_count": 5,
   "metadata": {},
   "outputs": [
    {
     "data": {
      "text/plain": [
       "[(0, 0, 0),\n",
       " (0, 0, 1),\n",
       " (0, 0, 2),\n",
       " (0, 0, 3),\n",
       " (0, 0, 4),\n",
       " (0, 0, 5),\n",
       " (0, 0, 6),\n",
       " (0, 0, 7),\n",
       " (0, 1, 0),\n",
       " (0, 1, 1),\n",
       " (0, 1, 2),\n",
       " (0, 1, 3),\n",
       " (0, 1, 4),\n",
       " (0, 1, 5),\n",
       " (0, 1, 6),\n",
       " (0, 1, 7),\n",
       " (1, 0, 0),\n",
       " (1, 0, 1),\n",
       " (1, 0, 2),\n",
       " (1, 0, 3),\n",
       " (1, 0, 4),\n",
       " (1, 0, 5),\n",
       " (1, 0, 6),\n",
       " (1, 0, 7),\n",
       " (1, 1, 0),\n",
       " (1, 1, 1),\n",
       " (1, 1, 2),\n",
       " (1, 1, 3),\n",
       " (1, 1, 4),\n",
       " (1, 1, 5),\n",
       " (1, 1, 6),\n",
       " (1, 1, 7),\n",
       " (2, 0, 0),\n",
       " (2, 0, 1),\n",
       " (2, 0, 2),\n",
       " (2, 0, 3),\n",
       " (2, 0, 4),\n",
       " (2, 0, 5),\n",
       " (2, 0, 6),\n",
       " (2, 0, 7),\n",
       " (2, 1, 0),\n",
       " (2, 1, 1),\n",
       " (2, 1, 2),\n",
       " (2, 1, 3),\n",
       " (2, 1, 4),\n",
       " (2, 1, 5),\n",
       " (2, 1, 6),\n",
       " (2, 1, 7),\n",
       " (3, 0, 0),\n",
       " (3, 0, 1),\n",
       " (3, 0, 2),\n",
       " (3, 0, 3),\n",
       " (3, 0, 4),\n",
       " (3, 0, 5),\n",
       " (3, 0, 6),\n",
       " (3, 0, 7),\n",
       " (3, 1, 0),\n",
       " (3, 1, 1),\n",
       " (3, 1, 2),\n",
       " (3, 1, 3),\n",
       " (3, 1, 4),\n",
       " (3, 1, 5),\n",
       " (3, 1, 6),\n",
       " (3, 1, 7),\n",
       " (4, 0, 0),\n",
       " (4, 0, 1),\n",
       " (4, 0, 2),\n",
       " (4, 0, 3),\n",
       " (4, 0, 4),\n",
       " (4, 0, 5),\n",
       " (4, 0, 6),\n",
       " (4, 0, 7),\n",
       " (4, 1, 0),\n",
       " (4, 1, 1),\n",
       " (4, 1, 2),\n",
       " (4, 1, 3),\n",
       " (4, 1, 4),\n",
       " (4, 1, 5),\n",
       " (4, 1, 6),\n",
       " (4, 1, 7),\n",
       " (5, 0, 0),\n",
       " (5, 0, 1),\n",
       " (5, 0, 2),\n",
       " (5, 0, 3),\n",
       " (5, 0, 4),\n",
       " (5, 0, 5),\n",
       " (5, 0, 6),\n",
       " (5, 0, 7),\n",
       " (5, 1, 0),\n",
       " (5, 1, 1),\n",
       " (5, 1, 2),\n",
       " (5, 1, 3),\n",
       " (5, 1, 4),\n",
       " (5, 1, 5),\n",
       " (5, 1, 6),\n",
       " (5, 1, 7),\n",
       " (6, 0, 0),\n",
       " (6, 0, 1),\n",
       " (6, 0, 2),\n",
       " (6, 0, 3),\n",
       " (6, 0, 4),\n",
       " (6, 0, 5),\n",
       " (6, 0, 6),\n",
       " (6, 0, 7),\n",
       " (6, 1, 0),\n",
       " (6, 1, 1),\n",
       " (6, 1, 2),\n",
       " (6, 1, 3),\n",
       " (6, 1, 4),\n",
       " (6, 1, 5),\n",
       " (6, 1, 6),\n",
       " (6, 1, 7),\n",
       " (7, 0, 0),\n",
       " (7, 0, 1),\n",
       " (7, 0, 2),\n",
       " (7, 0, 3),\n",
       " (7, 0, 4),\n",
       " (7, 0, 5),\n",
       " (7, 0, 6),\n",
       " (7, 0, 7),\n",
       " (7, 1, 0),\n",
       " (7, 1, 1),\n",
       " (7, 1, 2),\n",
       " (7, 1, 3),\n",
       " (7, 1, 4),\n",
       " (7, 1, 5),\n",
       " (7, 1, 6),\n",
       " (7, 1, 7)]"
      ]
     },
     "execution_count": 5,
     "metadata": {},
     "output_type": "execute_result"
    }
   ],
   "source": [
    "pdq_combination"
   ]
  },
  {
   "cell_type": "code",
   "execution_count": 35,
   "metadata": {},
   "outputs": [
    {
     "data": {
      "text/plain": [
       "128"
      ]
     },
     "execution_count": 35,
     "metadata": {},
     "output_type": "execute_result"
    }
   ],
   "source": [
    "len(pdq_combination)"
   ]
  },
  {
   "cell_type": "code",
   "execution_count": 27,
   "metadata": {},
   "outputs": [
    {
     "data": {
      "text/plain": [
       "2        3.037933\n",
       "3       -1.928237\n",
       "4       -3.599661\n",
       "5       -3.932422\n",
       "6        2.004201\n",
       "          ...    \n",
       "1008   -13.412294\n",
       "1009   -16.052957\n",
       "1010     7.016012\n",
       "1011     0.651924\n",
       "1012    -9.128924\n",
       "Length: 1011, dtype: float64"
      ]
     },
     "execution_count": 27,
     "metadata": {},
     "output_type": "execute_result"
    }
   ],
   "source": [
    "model.predict()"
   ]
  },
  {
   "cell_type": "code",
   "execution_count": 16,
   "metadata": {},
   "outputs": [
    {
     "data": {
      "text/html": [
       "<table class=\"simpletable\">\n",
       "<caption>ARIMA Model Results</caption>\n",
       "<tr>\n",
       "  <th>Dep. Variable:</th>     <td>D.Indices</td>    <th>  No. Observations:  </th>   <td>1012</td>   \n",
       "</tr>\n",
       "<tr>\n",
       "  <th>Model:</th>          <td>ARIMA(2, 1, 2)</td>  <th>  Log Likelihood     </th> <td>-4266.986</td>\n",
       "</tr>\n",
       "<tr>\n",
       "  <th>Method:</th>             <td>css-mle</td>     <th>  S.D. of innovations</th>  <td>16.369</td>  \n",
       "</tr>\n",
       "<tr>\n",
       "  <th>Date:</th>          <td>Fri, 05 Aug 2022</td> <th>  AIC                </th> <td>8545.973</td> \n",
       "</tr>\n",
       "<tr>\n",
       "  <th>Time:</th>              <td>15:34:00</td>     <th>  BIC                </th> <td>8575.491</td> \n",
       "</tr>\n",
       "<tr>\n",
       "  <th>Sample:</th>                <td>1</td>        <th>  HQIC               </th> <td>8557.185</td> \n",
       "</tr>\n",
       "<tr>\n",
       "  <th></th>                       <td> </td>        <th>                     </th>     <td> </td>    \n",
       "</tr>\n",
       "</table>\n",
       "<table class=\"simpletable\">\n",
       "<tr>\n",
       "         <td></td>            <th>coef</th>     <th>std err</th>      <th>z</th>      <th>P>|z|</th>  <th>[0.025</th>    <th>0.975]</th>  \n",
       "</tr>\n",
       "<tr>\n",
       "  <th>const</th>           <td>    0.0364</td> <td>    0.009</td> <td>    3.865</td> <td> 0.000</td> <td>    0.018</td> <td>    0.055</td>\n",
       "</tr>\n",
       "<tr>\n",
       "  <th>ar.L1.D.Indices</th> <td>    1.1327</td> <td>    0.129</td> <td>    8.759</td> <td> 0.000</td> <td>    0.879</td> <td>    1.386</td>\n",
       "</tr>\n",
       "<tr>\n",
       "  <th>ar.L2.D.Indices</th> <td>   -0.1942</td> <td>    0.101</td> <td>   -1.914</td> <td> 0.056</td> <td>   -0.393</td> <td>    0.005</td>\n",
       "</tr>\n",
       "<tr>\n",
       "  <th>ma.L1.D.Indices</th> <td>   -1.6606</td> <td>    0.118</td> <td>  -14.124</td> <td> 0.000</td> <td>   -1.891</td> <td>   -1.430</td>\n",
       "</tr>\n",
       "<tr>\n",
       "  <th>ma.L2.D.Indices</th> <td>    0.6606</td> <td>    0.117</td> <td>    5.623</td> <td> 0.000</td> <td>    0.430</td> <td>    0.891</td>\n",
       "</tr>\n",
       "</table>\n",
       "<table class=\"simpletable\">\n",
       "<caption>Roots</caption>\n",
       "<tr>\n",
       "    <td></td>   <th>            Real</th>  <th>         Imaginary</th> <th>         Modulus</th>  <th>        Frequency</th>\n",
       "</tr>\n",
       "<tr>\n",
       "  <th>AR.1</th> <td>           1.0844</td> <td>          +0.0000j</td> <td>           1.0844</td> <td>           0.0000</td>\n",
       "</tr>\n",
       "<tr>\n",
       "  <th>AR.2</th> <td>           4.7485</td> <td>          +0.0000j</td> <td>           4.7485</td> <td>           0.0000</td>\n",
       "</tr>\n",
       "<tr>\n",
       "  <th>MA.1</th> <td>           1.0001</td> <td>          +0.0000j</td> <td>           1.0001</td> <td>           0.0000</td>\n",
       "</tr>\n",
       "<tr>\n",
       "  <th>MA.2</th> <td>           1.5136</td> <td>          +0.0000j</td> <td>           1.5136</td> <td>           0.0000</td>\n",
       "</tr>\n",
       "</table>"
      ],
      "text/plain": [
       "<class 'statsmodels.iolib.summary.Summary'>\n",
       "\"\"\"\n",
       "                             ARIMA Model Results                              \n",
       "==============================================================================\n",
       "Dep. Variable:              D.Indices   No. Observations:                 1012\n",
       "Model:                 ARIMA(2, 1, 2)   Log Likelihood               -4266.986\n",
       "Method:                       css-mle   S.D. of innovations             16.369\n",
       "Date:                Fri, 05 Aug 2022   AIC                           8545.973\n",
       "Time:                        15:34:00   BIC                           8575.491\n",
       "Sample:                             1   HQIC                          8557.185\n",
       "                                                                              \n",
       "===================================================================================\n",
       "                      coef    std err          z      P>|z|      [0.025      0.975]\n",
       "-----------------------------------------------------------------------------------\n",
       "const               0.0364      0.009      3.865      0.000       0.018       0.055\n",
       "ar.L1.D.Indices     1.1327      0.129      8.759      0.000       0.879       1.386\n",
       "ar.L2.D.Indices    -0.1942      0.101     -1.914      0.056      -0.393       0.005\n",
       "ma.L1.D.Indices    -1.6606      0.118    -14.124      0.000      -1.891      -1.430\n",
       "ma.L2.D.Indices     0.6606      0.117      5.623      0.000       0.430       0.891\n",
       "                                    Roots                                    \n",
       "=============================================================================\n",
       "                  Real          Imaginary           Modulus         Frequency\n",
       "-----------------------------------------------------------------------------\n",
       "AR.1            1.0844           +0.0000j            1.0844            0.0000\n",
       "AR.2            4.7485           +0.0000j            4.7485            0.0000\n",
       "MA.1            1.0001           +0.0000j            1.0001            0.0000\n",
       "MA.2            1.5136           +0.0000j            1.5136            0.0000\n",
       "-----------------------------------------------------------------------------\n",
       "\"\"\""
      ]
     },
     "execution_count": 16,
     "metadata": {},
     "output_type": "execute_result"
    }
   ],
   "source": [
    "model.summary()"
   ]
  },
  {
   "cell_type": "markdown",
   "metadata": {},
   "source": [
    "moel"
   ]
  }
 ],
 "metadata": {
  "kernelspec": {
   "display_name": "Python 3",
   "language": "python",
   "name": "python3"
  },
  "language_info": {
   "codemirror_mode": {
    "name": "ipython",
    "version": 3
   },
   "file_extension": ".py",
   "mimetype": "text/x-python",
   "name": "python",
   "nbconvert_exporter": "python",
   "pygments_lexer": "ipython3",
   "version": "3.8.3"
  }
 },
 "nbformat": 4,
 "nbformat_minor": 4
}
